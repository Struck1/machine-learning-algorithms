{
 "metadata": {
  "language_info": {
   "codemirror_mode": {
    "name": "ipython",
    "version": 3
   },
   "file_extension": ".py",
   "mimetype": "text/x-python",
   "name": "python",
   "nbconvert_exporter": "python",
   "pygments_lexer": "ipython3",
   "version": "3.8.3-final"
  },
  "orig_nbformat": 2,
  "kernelspec": {
   "name": "python3",
   "display_name": "Python 3"
  }
 },
 "nbformat": 4,
 "nbformat_minor": 2,
 "cells": [
  {
   "cell_type": "code",
   "execution_count": 80,
   "metadata": {},
   "outputs": [],
   "source": [
    "from sklearn.linear_model import LogisticRegression\n",
    "from sklearn.neighbors import KNeighborsClassifier\n",
    "from sklearn.neural_network import MLPClassifier\n",
    "from sklearn.svm import SVC\n",
    "from sklearn.ensemble import RandomForestClassifier\n",
    "from sklearn.metrics import classification_report, confusion_matrix, roc_auc_score\n",
    "from sklearn.model_selection import train_test_split, cross_validate\n",
    "from sklearn.ensemble import ExtraTreesClassifier, VotingClassifier\n",
    "from xgboost import XGBClassifier\n",
    "from sklearn.model_selection import GridSearchCV, KFold\n",
    "\n",
    "import pandas as pd  "
   ]
  },
  {
   "cell_type": "code",
   "execution_count": 68,
   "metadata": {
    "tags": []
   },
   "outputs": [
    {
     "output_type": "execute_result",
     "data": {
      "text/plain": "      age  gender  total_bilirubin  alkaline_phosphotase  \\\n181  1.20     0.0         0.963474              0.088665   \n55  -0.12     0.0         2.307429              0.506781   \n460 -0.92    -1.0         0.678072              0.062498   \n170  1.08     0.0         0.432959             -0.074042   \n261 -0.48     0.0         0.321928              1.677400   \n\n     alamine_aminotransferase  albumin_and_globulin_ratio  \n181                 -0.060745                    0.126945  \n55                  -0.125175                   -1.234483  \n460                  1.585264                   -0.371664  \n170                 -0.229792                   -0.041657  \n261                  1.853825                    0.126945  ",
      "text/html": "<div>\n<style scoped>\n    .dataframe tbody tr th:only-of-type {\n        vertical-align: middle;\n    }\n\n    .dataframe tbody tr th {\n        vertical-align: top;\n    }\n\n    .dataframe thead th {\n        text-align: right;\n    }\n</style>\n<table border=\"1\" class=\"dataframe\">\n  <thead>\n    <tr style=\"text-align: right;\">\n      <th></th>\n      <th>age</th>\n      <th>gender</th>\n      <th>total_bilirubin</th>\n      <th>alkaline_phosphotase</th>\n      <th>alamine_aminotransferase</th>\n      <th>albumin_and_globulin_ratio</th>\n    </tr>\n  </thead>\n  <tbody>\n    <tr>\n      <th>181</th>\n      <td>1.20</td>\n      <td>0.0</td>\n      <td>0.963474</td>\n      <td>0.088665</td>\n      <td>-0.060745</td>\n      <td>0.126945</td>\n    </tr>\n    <tr>\n      <th>55</th>\n      <td>-0.12</td>\n      <td>0.0</td>\n      <td>2.307429</td>\n      <td>0.506781</td>\n      <td>-0.125175</td>\n      <td>-1.234483</td>\n    </tr>\n    <tr>\n      <th>460</th>\n      <td>-0.92</td>\n      <td>-1.0</td>\n      <td>0.678072</td>\n      <td>0.062498</td>\n      <td>1.585264</td>\n      <td>-0.371664</td>\n    </tr>\n    <tr>\n      <th>170</th>\n      <td>1.08</td>\n      <td>0.0</td>\n      <td>0.432959</td>\n      <td>-0.074042</td>\n      <td>-0.229792</td>\n      <td>-0.041657</td>\n    </tr>\n    <tr>\n      <th>261</th>\n      <td>-0.48</td>\n      <td>0.0</td>\n      <td>0.321928</td>\n      <td>1.677400</td>\n      <td>1.853825</td>\n      <td>0.126945</td>\n    </tr>\n  </tbody>\n</table>\n</div>"
     },
     "metadata": {},
     "execution_count": 68
    }
   ],
   "source": [
    "# Split data for modeling\n",
    "df = pd.read_csv(\"data.csv\")\n",
    "X = df.drop(\"dataset\", axis = 1)\n",
    "y = df.dataset.values\n",
    "\n",
    "X_train, X_test, y_train, y_test = train_test_split(X, y, test_size=0.25, random_state=123)\n",
    "X_train.head()\n"
   ]
  },
  {
   "cell_type": "code",
   "execution_count": 69,
   "metadata": {
    "tags": []
   },
   "outputs": [
    {
     "output_type": "stream",
     "name": "stdout",
     "text": "LogisticRegression()\nTrain performance\n-------------------------------------------------------\n              precision    recall  f1-score   support\n\n           1       0.76      0.93      0.83       314\n           2       0.57      0.23      0.33       123\n\n    accuracy                           0.73       437\n   macro avg       0.66      0.58      0.58       437\nweighted avg       0.70      0.73      0.69       437\n\nTest performance\n-------------------------------------------------------\n              precision    recall  f1-score   support\n\n           1       0.73      0.95      0.83       102\n           2       0.64      0.20      0.31        44\n\n    accuracy                           0.73       146\n   macro avg       0.69      0.58      0.57       146\nweighted avg       0.71      0.73      0.67       146\n\nRoc_auc score\n-------------------------------------------------------\n0.5777629233511586\n\nConfusion matrix\n-------------------------------------------------------\n[[97  5]\n [35  9]]\n"
    }
   ],
   "source": [
    "# Logistic Regression\n",
    "model = LogisticRegression()\n",
    "model.fit(X_train, y_train)\n",
    "predict_train = model.predict(X_train)\n",
    "predict_test = model.predict(X_test)\n",
    "\n",
    "print(model)\n",
    "print('Train performance')\n",
    "print('-------------------------------------------------------')\n",
    "print(classification_report(y_train, predict_train))\n",
    "\n",
    "print('Test performance')\n",
    "print('-------------------------------------------------------')\n",
    "print(classification_report(y_test, predict_test))\n",
    "\n",
    "print('Roc_auc score')\n",
    "print('-------------------------------------------------------')\n",
    "print(roc_auc_score(y_test, predict_test))\n",
    "print('')\n",
    "\n",
    "print('Confusion matrix')\n",
    "print('-------------------------------------------------------')\n",
    "print(confusion_matrix(y_test, predict_test))\n",
    "\n",
    "\n"
   ]
  },
  {
   "cell_type": "code",
   "execution_count": 70,
   "metadata": {
    "tags": []
   },
   "outputs": [
    {
     "output_type": "stream",
     "name": "stdout",
     "text": "Train performance\n-------------------------------------------------------\n              precision    recall  f1-score   support\n\n           1       0.73      1.00      0.84       314\n           2       1.00      0.05      0.09       123\n\n    accuracy                           0.73       437\n   macro avg       0.86      0.52      0.47       437\nweighted avg       0.80      0.73      0.63       437\n\nTest performance\n-------------------------------------------------------\n              precision    recall  f1-score   support\n\n           1       0.70      1.00      0.83       102\n           2       1.00      0.02      0.04        44\n\n    accuracy                           0.71       146\n   macro avg       0.85      0.51      0.44       146\nweighted avg       0.79      0.71      0.59       146\n\nRoc_auc score\n-------------------------------------------------------\n0.5113636363636364\n\nConfusion matrix\n-------------------------------------------------------\n[[102   0]\n [ 43   1]]\n"
    }
   ],
   "source": [
    "# Support vector machines\n",
    "svm = SVC()\n",
    "svm.fit(X_train, y_train)\n",
    "predict_train_svm = svm.predict(X_train)\n",
    "predict_test_svm = svm.predict(X_test)\n",
    "\n",
    "print('Train performance')\n",
    "print('-------------------------------------------------------')\n",
    "print(classification_report(y_train, predict_train_svm))\n",
    "\n",
    "print('Test performance')\n",
    "print('-------------------------------------------------------')\n",
    "print(classification_report(y_test, predict_test_svm))\n",
    "\n",
    "print('Roc_auc score')\n",
    "print('-------------------------------------------------------')\n",
    "print(roc_auc_score(y_test, predict_test_svm))\n",
    "print('')\n",
    "\n",
    "print('Confusion matrix')\n",
    "print('-------------------------------------------------------')\n",
    "print(confusion_matrix(y_test, predict_test_svm))\n",
    "\n"
   ]
  },
  {
   "cell_type": "code",
   "execution_count": 71,
   "metadata": {
    "tags": []
   },
   "outputs": [
    {
     "output_type": "stream",
     "name": "stdout",
     "text": "Train performance\n-------------------------------------------------------\n              precision    recall  f1-score   support\n\n           1       1.00      1.00      1.00       314\n           2       1.00      1.00      1.00       123\n\n    accuracy                           1.00       437\n   macro avg       1.00      1.00      1.00       437\nweighted avg       1.00      1.00      1.00       437\n\nTest performance\n-------------------------------------------------------\n              precision    recall  f1-score   support\n\n           1       0.76      0.87      0.81       102\n           2       0.55      0.36      0.44        44\n\n    accuracy                           0.72       146\n   macro avg       0.66      0.62      0.63       146\nweighted avg       0.70      0.72      0.70       146\n\nRoc_auc score\n-------------------------------------------------------\n0.6180926916221035\n\nConfusion matrix\n-------------------------------------------------------\n[[89 13]\n [28 16]]\n"
    }
   ],
   "source": [
    "# Random Forest\n",
    "rf = RandomForestClassifier(n_jobs=-1, random_state=123)\n",
    "rf.fit(X_train, y_train)\n",
    "predict_train_rf = rf.predict(X_train)\n",
    "predict_test_rf = rf.predict(X_test)\n",
    "\n",
    "print('Train performance')\n",
    "print('-------------------------------------------------------')\n",
    "print(classification_report(y_train, predict_train_rf))\n",
    "\n",
    "print('Test performance')\n",
    "print('-------------------------------------------------------')\n",
    "print(classification_report(y_test, predict_test_rf))\n",
    "\n",
    "print('Roc_auc score')\n",
    "print('-------------------------------------------------------')\n",
    "print(roc_auc_score(y_test, predict_test_rf))\n",
    "print('')\n",
    "\n",
    "print('Confusion matrix')\n",
    "print('-------------------------------------------------------')\n",
    "print(confusion_matrix(y_test, predict_test_rf))"
   ]
  },
  {
   "cell_type": "code",
   "execution_count": 72,
   "metadata": {
    "tags": []
   },
   "outputs": [
    {
     "output_type": "stream",
     "name": "stdout",
     "text": "Train performance\n-------------------------------------------------------\n              precision    recall  f1-score   support\n\n           1       0.83      0.90      0.86       314\n           2       0.67      0.52      0.58       123\n\n    accuracy                           0.79       437\n   macro avg       0.75      0.71      0.72       437\nweighted avg       0.78      0.79      0.78       437\n\nTest performance\n-------------------------------------------------------\n              precision    recall  f1-score   support\n\n           1       0.76      0.89      0.82       102\n           2       0.59      0.36      0.45        44\n\n    accuracy                           0.73       146\n   macro avg       0.68      0.63      0.64       146\nweighted avg       0.71      0.73      0.71       146\n\nRoc_auc score\n-------------------------------------------------------\n0.6278966131907309\n\nConfusion matrix\n-------------------------------------------------------\n[[91 11]\n [28 16]]\n"
    }
   ],
   "source": [
    "# K-NeighborsClassifier\n",
    "kn = KNeighborsClassifier()\n",
    "kn.fit(X_train, y_train)\n",
    "predict_train_k = kn.predict(X_train)\n",
    "predict_test_k = kn.predict(X_test)\n",
    "\n",
    "print('Train performance')\n",
    "print('-------------------------------------------------------')\n",
    "print(classification_report(y_train, predict_train_k))\n",
    "\n",
    "print('Test performance')\n",
    "print('-------------------------------------------------------')\n",
    "print(classification_report(y_test, predict_test_k))\n",
    "\n",
    "print('Roc_auc score')\n",
    "print('-------------------------------------------------------')\n",
    "print(roc_auc_score(y_test, predict_test_k))\n",
    "print('')\n",
    "\n",
    "print('Confusion matrix')\n",
    "print('-------------------------------------------------------')\n",
    "print(confusion_matrix(y_test, predict_test_k))\n"
   ]
  },
  {
   "cell_type": "code",
   "execution_count": 73,
   "metadata": {
    "tags": []
   },
   "outputs": [
    {
     "output_type": "stream",
     "name": "stdout",
     "text": "Train performance\n-------------------------------------------------------\n              precision    recall  f1-score   support\n\n           1       1.00      1.00      1.00       314\n           2       1.00      1.00      1.00       123\n\n    accuracy                           1.00       437\n   macro avg       1.00      1.00      1.00       437\nweighted avg       1.00      1.00      1.00       437\n\nTest performance\n-------------------------------------------------------\n              precision    recall  f1-score   support\n\n           1       0.76      0.89      0.82       102\n           2       0.59      0.36      0.45        44\n\n    accuracy                           0.73       146\n   macro avg       0.68      0.63      0.64       146\nweighted avg       0.71      0.73      0.71       146\n\nRoc_auc score\n-------------------------------------------------------\n0.6278966131907309\n\nConfusion matrix\n-------------------------------------------------------\n[[91 11]\n [28 16]]\n"
    }
   ],
   "source": [
    "# Extra Three\n",
    "extra_t = ExtraTreesClassifier()\n",
    "extra_t.fit(X_train, y_train)\n",
    "predict_train_tree = extra_t.predict(X_train)\n",
    "predict_test_tree = extra_t.predict(X_test)\n",
    "\n",
    "print('Train performance')\n",
    "print('-------------------------------------------------------')\n",
    "print(classification_report(y_train, predict_train_tree))\n",
    "\n",
    "print('Test performance')\n",
    "print('-------------------------------------------------------')\n",
    "print(classification_report(y_test, predict_test_tree))\n",
    "\n",
    "print('Roc_auc score')\n",
    "print('-------------------------------------------------------')\n",
    "print(roc_auc_score(y_test, predict_test_tree))\n",
    "print('')\n",
    "\n",
    "print('Confusion matrix')\n",
    "print('-------------------------------------------------------')\n",
    "print(confusion_matrix(y_test, predict_test_tree))\n"
   ]
  },
  {
   "cell_type": "code",
   "execution_count": 74,
   "metadata": {
    "tags": []
   },
   "outputs": [
    {
     "output_type": "stream",
     "name": "stdout",
     "text": "Train performance\n-------------------------------------------------------\n              precision    recall  f1-score   support\n\n           1       1.00      1.00      1.00       314\n           2       1.00      1.00      1.00       123\n\n    accuracy                           1.00       437\n   macro avg       1.00      1.00      1.00       437\nweighted avg       1.00      1.00      1.00       437\n\nTest performance\n-------------------------------------------------------\n              precision    recall  f1-score   support\n\n           1       0.78      0.83      0.81       102\n           2       0.54      0.45      0.49        44\n\n    accuracy                           0.72       146\n   macro avg       0.66      0.64      0.65       146\nweighted avg       0.71      0.72      0.71       146\n\nRoc_auc score\n-------------------------------------------------------\n0.6439393939393939\n\nConfusion matrix\n-------------------------------------------------------\n[[85 17]\n [24 20]]\n"
    }
   ],
   "source": [
    "# XGboost \n",
    "xg = XGBClassifier()\n",
    "xg.fit(X_train, y_train)\n",
    "predict_train_xg = xg.predict(X_train)\n",
    "predict_test_xg = xg.predict(X_test)\n",
    "\n",
    "print('Train performance')\n",
    "print('-------------------------------------------------------')\n",
    "print(classification_report(y_train, predict_train_xg))\n",
    "\n",
    "print('Test performance')\n",
    "print('-------------------------------------------------------')\n",
    "print(classification_report(y_test, predict_test_xg))\n",
    "\n",
    "print('Roc_auc score')\n",
    "print('-------------------------------------------------------')\n",
    "print(roc_auc_score(y_test, predict_test_xg))\n",
    "print('')\n",
    "\n",
    "print('Confusion matrix')\n",
    "print('-------------------------------------------------------')\n",
    "print(confusion_matrix(y_test, predict_test_xg))\n",
    "\n",
    "\n"
   ]
  },
  {
   "cell_type": "code",
   "execution_count": 45,
   "metadata": {
    "tags": []
   },
   "outputs": [
    {
     "output_type": "stream",
     "name": "stdout",
     "text": "Fitting 3 folds for each of 480 candidates, totalling 1440 fits\n[Parallel(n_jobs=-1)]: Using backend LokyBackend with 4 concurrent workers.\n[Parallel(n_jobs=-1)]: Done   5 tasks      | elapsed:    7.9s\n[Parallel(n_jobs=-1)]: Done  10 tasks      | elapsed:    9.8s\n[Parallel(n_jobs=-1)]: Done  17 tasks      | elapsed:   14.3s\n[Parallel(n_jobs=-1)]: Done  24 tasks      | elapsed:   16.6s\n[Parallel(n_jobs=-1)]: Done  33 tasks      | elapsed:   21.4s\n[Parallel(n_jobs=-1)]: Done  42 tasks      | elapsed:   24.8s\n[Parallel(n_jobs=-1)]: Done  53 tasks      | elapsed:   30.1s\n[Parallel(n_jobs=-1)]: Done  64 tasks      | elapsed:   35.7s\n[Parallel(n_jobs=-1)]: Done  77 tasks      | elapsed:   41.1s\n[Parallel(n_jobs=-1)]: Done  90 tasks      | elapsed:   47.3s\n[Parallel(n_jobs=-1)]: Done 105 tasks      | elapsed:   54.5s\n[Parallel(n_jobs=-1)]: Done 120 tasks      | elapsed:   59.3s\n[Parallel(n_jobs=-1)]: Done 137 tasks      | elapsed:  1.2min\n[Parallel(n_jobs=-1)]: Done 154 tasks      | elapsed:  1.2min\n[Parallel(n_jobs=-1)]: Done 173 tasks      | elapsed:  1.4min\n[Parallel(n_jobs=-1)]: Done 192 tasks      | elapsed:  1.5min\n[Parallel(n_jobs=-1)]: Done 213 tasks      | elapsed:  1.7min\n[Parallel(n_jobs=-1)]: Done 234 tasks      | elapsed:  1.9min\n[Parallel(n_jobs=-1)]: Done 257 tasks      | elapsed:  2.1min\n[Parallel(n_jobs=-1)]: Done 280 tasks      | elapsed:  2.3min\n[Parallel(n_jobs=-1)]: Done 305 tasks      | elapsed:  2.5min\n[Parallel(n_jobs=-1)]: Done 330 tasks      | elapsed:  2.6min\n[Parallel(n_jobs=-1)]: Done 357 tasks      | elapsed:  2.9min\n[Parallel(n_jobs=-1)]: Done 384 tasks      | elapsed:  3.1min\n[Parallel(n_jobs=-1)]: Done 413 tasks      | elapsed:  3.3min\n[Parallel(n_jobs=-1)]: Done 442 tasks      | elapsed:  3.5min\n[Parallel(n_jobs=-1)]: Done 473 tasks      | elapsed:  3.8min\n[Parallel(n_jobs=-1)]: Done 504 tasks      | elapsed:  4.1min\n[Parallel(n_jobs=-1)]: Done 537 tasks      | elapsed:  4.4min\n[Parallel(n_jobs=-1)]: Done 570 tasks      | elapsed:  4.8min\n[Parallel(n_jobs=-1)]: Done 605 tasks      | elapsed:  5.1min\n[Parallel(n_jobs=-1)]: Done 640 tasks      | elapsed:  5.4min\n[Parallel(n_jobs=-1)]: Done 677 tasks      | elapsed:  5.8min\n[Parallel(n_jobs=-1)]: Done 714 tasks      | elapsed:  6.2min\n[Parallel(n_jobs=-1)]: Done 753 tasks      | elapsed:  6.5min\n[Parallel(n_jobs=-1)]: Done 792 tasks      | elapsed:  6.9min\n[Parallel(n_jobs=-1)]: Done 833 tasks      | elapsed:  7.2min\n[Parallel(n_jobs=-1)]: Done 874 tasks      | elapsed:  7.4min\n[Parallel(n_jobs=-1)]: Done 917 tasks      | elapsed:  7.8min\n[Parallel(n_jobs=-1)]: Done 960 tasks      | elapsed:  8.1min\n[Parallel(n_jobs=-1)]: Done 1005 tasks      | elapsed:  8.5min\n[Parallel(n_jobs=-1)]: Done 1050 tasks      | elapsed:  8.9min\n[Parallel(n_jobs=-1)]: Done 1097 tasks      | elapsed:  9.3min\n[Parallel(n_jobs=-1)]: Done 1144 tasks      | elapsed:  9.8min\n[Parallel(n_jobs=-1)]: Done 1193 tasks      | elapsed: 10.2min\n[Parallel(n_jobs=-1)]: Done 1242 tasks      | elapsed: 10.5min\n[Parallel(n_jobs=-1)]: Done 1293 tasks      | elapsed: 10.9min\n[Parallel(n_jobs=-1)]: Done 1344 tasks      | elapsed: 11.2min\n[Parallel(n_jobs=-1)]: Done 1397 tasks      | elapsed: 11.6min\n[Parallel(n_jobs=-1)]: Done 1440 out of 1440 | elapsed: 12.0min finished\n"
    },
    {
     "output_type": "error",
     "ename": "NameError",
     "evalue": "name 'gs1' is not defined",
     "traceback": [
      "\u001b[1;31m---------------------------------------------------------------------------\u001b[0m",
      "\u001b[1;31mNameError\u001b[0m                                 Traceback (most recent call last)",
      "\u001b[1;32m<ipython-input-45-e6f2c34db481>\u001b[0m in \u001b[0;36m<module>\u001b[1;34m\u001b[0m\n\u001b[0;32m     12\u001b[0m \u001b[1;33m\u001b[0m\u001b[0m\n\u001b[0;32m     13\u001b[0m \u001b[1;33m\u001b[0m\u001b[0m\n\u001b[1;32m---> 14\u001b[1;33m \u001b[0mprint\u001b[0m\u001b[1;33m(\u001b[0m\u001b[1;34m'Best score:'\u001b[0m\u001b[1;33m,\u001b[0m \u001b[0mgs1\u001b[0m\u001b[1;33m.\u001b[0m\u001b[0mbest_score_\u001b[0m\u001b[1;33m)\u001b[0m\u001b[1;33m\u001b[0m\u001b[1;33m\u001b[0m\u001b[0m\n\u001b[0m\u001b[0;32m     15\u001b[0m \u001b[0mprint\u001b[0m\u001b[1;33m(\u001b[0m\u001b[1;34m'Best score:'\u001b[0m\u001b[1;33m,\u001b[0m \u001b[0mgs1\u001b[0m\u001b[1;33m.\u001b[0m\u001b[0mbest_params_\u001b[0m\u001b[1;33m)\u001b[0m\u001b[1;33m\u001b[0m\u001b[1;33m\u001b[0m\u001b[0m\n",
      "\u001b[1;31mNameError\u001b[0m: name 'gs1' is not defined"
     ]
    }
   ],
   "source": [
    "#Model evaluation & optimization\n",
    "# Random forest\n",
    "params = {\n",
    "    'n_estimators': [100, 200, 500],\n",
    "    'criterion': ['gini', 'entropy'],\n",
    "    'min_samples_split': [1,2,4,5],\n",
    "    'min_samples_leaf': [1,2,4,5],\n",
    "    'max_leaf_nodes': [4,10,20,50,None]\n",
    "}\n",
    "\n",
    "gs = GridSearchCV(rf, params, n_jobs=-1, cv= KFold(n_splits=3), scoring= 'roc_auc', verbose = 10)\n",
    "gs.fit(X_train, y_train)\n"
   ]
  },
  {
   "cell_type": "code",
   "execution_count": 59,
   "metadata": {
    "tags": []
   },
   "outputs": [
    {
     "output_type": "stream",
     "name": "stdout",
     "text": "Best score: 0.7415139571578487\nBest score: {'criterion': 'entropy', 'max_leaf_nodes': 20, 'min_samples_leaf': 1, 'min_samples_split': 4, 'n_estimators': 500}\nRandomForestClassifier(criterion='entropy', max_leaf_nodes=20,\n                       min_samples_split=4, n_estimators=500, n_jobs=-1,\n                       random_state=123)\n"
    }
   ],
   "source": [
    "print('Best score:', gs.best_score_)\n",
    "print('Best score:', gs.best_params_)\n",
    "print(gs.best_estimator_)"
   ]
  },
  {
   "cell_type": "code",
   "execution_count": 63,
   "metadata": {
    "tags": []
   },
   "outputs": [
    {
     "output_type": "stream",
     "name": "stdout",
     "text": "Fitting 3 folds for each of 1458 candidates, totalling 4374 fits\n[Parallel(n_jobs=-1)]: Using backend LokyBackend with 4 concurrent workers.\n[Parallel(n_jobs=-1)]: Done   5 tasks      | elapsed:    6.0s\n[Parallel(n_jobs=-1)]: Done  10 tasks      | elapsed:    6.1s\n[Parallel(n_jobs=-1)]: Done  17 tasks      | elapsed:    6.3s\n[Parallel(n_jobs=-1)]: Done  24 tasks      | elapsed:    6.5s\n[Parallel(n_jobs=-1)]: Done  33 tasks      | elapsed:    6.9s\n[Parallel(n_jobs=-1)]: Done  42 tasks      | elapsed:    7.3s\n[Parallel(n_jobs=-1)]: Done  53 tasks      | elapsed:    7.8s\n[Parallel(n_jobs=-1)]: Done  64 tasks      | elapsed:    8.9s\n[Parallel(n_jobs=-1)]: Done  77 tasks      | elapsed:   10.3s\n[Parallel(n_jobs=-1)]: Done  90 tasks      | elapsed:   10.8s\n[Parallel(n_jobs=-1)]: Done 105 tasks      | elapsed:   11.2s\n[Parallel(n_jobs=-1)]: Done 120 tasks      | elapsed:   12.0s\n[Parallel(n_jobs=-1)]: Done 137 tasks      | elapsed:   13.0s\n[Parallel(n_jobs=-1)]: Done 154 tasks      | elapsed:   14.6s\n[Parallel(n_jobs=-1)]: Done 173 tasks      | elapsed:   15.5s\n[Parallel(n_jobs=-1)]: Batch computation too fast (0.1973s.) Setting batch_size=2.\n[Parallel(n_jobs=-1)]: Done 196 tasks      | elapsed:   16.1s\n[Parallel(n_jobs=-1)]: Done 238 tasks      | elapsed:   18.3s\n[Parallel(n_jobs=-1)]: Done 280 tasks      | elapsed:   19.9s\n[Parallel(n_jobs=-1)]: Done 326 tasks      | elapsed:   23.6s\n[Parallel(n_jobs=-1)]: Done 372 tasks      | elapsed:   25.5s\n[Parallel(n_jobs=-1)]: Batch computation too slow (2.0335s.) Setting batch_size=1.\n[Parallel(n_jobs=-1)]: Done 420 tasks      | elapsed:   30.3s\n[Parallel(n_jobs=-1)]: Done 446 tasks      | elapsed:   32.1s\n[Parallel(n_jobs=-1)]: Done 473 tasks      | elapsed:   35.6s\n[Parallel(n_jobs=-1)]: Done 500 tasks      | elapsed:   38.8s\n[Parallel(n_jobs=-1)]: Done 529 tasks      | elapsed:   40.7s\n[Parallel(n_jobs=-1)]: Done 558 tasks      | elapsed:   45.1s\n[Parallel(n_jobs=-1)]: Done 589 tasks      | elapsed:   47.8s\n[Parallel(n_jobs=-1)]: Done 620 tasks      | elapsed:   49.5s\n[Parallel(n_jobs=-1)]: Done 653 tasks      | elapsed:   54.8s\n[Parallel(n_jobs=-1)]: Done 686 tasks      | elapsed:   56.9s\n[Parallel(n_jobs=-1)]: Done 721 tasks      | elapsed:  1.0min\n[Parallel(n_jobs=-1)]: Done 756 tasks      | elapsed:  1.0min\n[Parallel(n_jobs=-1)]: Batch computation too fast (0.1903s.) Setting batch_size=2.\n[Parallel(n_jobs=-1)]: Done 798 tasks      | elapsed:  1.1min\n[Parallel(n_jobs=-1)]: Done 872 tasks      | elapsed:  1.1min\n[Parallel(n_jobs=-1)]: Done 950 tasks      | elapsed:  1.1min\n[Parallel(n_jobs=-1)]: Done 1028 tasks      | elapsed:  1.2min\n[Parallel(n_jobs=-1)]: Done 1110 tasks      | elapsed:  1.2min\n[Parallel(n_jobs=-1)]: Done 1192 tasks      | elapsed:  1.3min\n[Parallel(n_jobs=-1)]: Done 1278 tasks      | elapsed:  1.3min\n[Parallel(n_jobs=-1)]: Done 1364 tasks      | elapsed:  1.3min\n[Parallel(n_jobs=-1)]: Done 1454 tasks      | elapsed:  1.4min\n[Parallel(n_jobs=-1)]: Batch computation too slow (2.0354s.) Setting batch_size=1.\n[Parallel(n_jobs=-1)]: Done 1538 tasks      | elapsed:  1.5min\n[Parallel(n_jobs=-1)]: Done 1585 tasks      | elapsed:  1.6min\n[Parallel(n_jobs=-1)]: Done 1632 tasks      | elapsed:  1.7min\n[Parallel(n_jobs=-1)]: Done 1681 tasks      | elapsed:  1.8min\n[Parallel(n_jobs=-1)]: Done 1730 tasks      | elapsed:  1.9min\n[Parallel(n_jobs=-1)]: Done 1781 tasks      | elapsed:  2.0min\n[Parallel(n_jobs=-1)]: Done 1832 tasks      | elapsed:  2.0min\n[Parallel(n_jobs=-1)]: Done 1885 tasks      | elapsed:  2.2min\n[Parallel(n_jobs=-1)]: Done 1938 tasks      | elapsed:  2.3min\n[Parallel(n_jobs=-1)]: Done 1993 tasks      | elapsed:  2.3min\n[Parallel(n_jobs=-1)]: Done 2048 tasks      | elapsed:  2.4min\n[Parallel(n_jobs=-1)]: Done 2105 tasks      | elapsed:  2.6min\n[Parallel(n_jobs=-1)]: Done 2162 tasks      | elapsed:  2.7min\n[Parallel(n_jobs=-1)]: Batch computation too fast (0.1874s.) Setting batch_size=2.\n[Parallel(n_jobs=-1)]: Done 2222 tasks      | elapsed:  2.7min\n[Parallel(n_jobs=-1)]: Done 2340 tasks      | elapsed:  2.8min\n[Parallel(n_jobs=-1)]: Done 2462 tasks      | elapsed:  2.8min\n[Parallel(n_jobs=-1)]: Done 2584 tasks      | elapsed:  2.9min\n[Parallel(n_jobs=-1)]: Done 2710 tasks      | elapsed:  2.9min\n[Parallel(n_jobs=-1)]: Done 2836 tasks      | elapsed:  3.0min\n[Parallel(n_jobs=-1)]: Batch computation too fast (0.1805s.) Setting batch_size=4.\n[Parallel(n_jobs=-1)]: Batch computation too fast (0.0858s.) Setting batch_size=8.\n[Parallel(n_jobs=-1)]: Done 2976 tasks      | elapsed:  3.0min\n[Parallel(n_jobs=-1)]: Batch computation too fast (0.1556s.) Setting batch_size=16.\n[Parallel(n_jobs=-1)]: Done 3916 tasks      | elapsed:  3.1min\n[Parallel(n_jobs=-1)]: Done 4374 out of 4374 | elapsed:  3.1min finished\n[22:43:41] WARNING: C:\\Users\\Administrator\\workspace\\xgboost-win64_release_1.2.0\\src\\learner.cc:516: \nParameters: { colsample_bylevel, colsample_bynode, colsample_bytree, gamma, interaction_constraints, max_delta_step, max_depth, min_child_weight, monotone_constraints, num_parallel_tree, subsample, tree_method } might not be used.\n\n  This may not be accurate due to some parameters are only used in language bindings but\n  passed down to XGBoost core.  Or some parameters are not used but slip through this\n  verification. Please open an issue if you find above cases.\n\n\nBest score: 0.7411851854938458\nBest score: {'base_score': 0.5, 'booster': 'gblinear', 'gamma': 0, 'learning_rate': 0.01, 'n_estimators': 100, 'reg_alpha': 0, 'reg_lambda': 0.5}\nXGBClassifier(base_score=0.5, booster='gblinear', colsample_bylevel=1,\n              colsample_bynode=1, colsample_bytree=1, gamma=0, gpu_id=-1,\n              importance_type='gain', interaction_constraints='',\n              learning_rate=0.01, max_delta_step=0, max_depth=6,\n              min_child_weight=1, missing=nan, monotone_constraints='()',\n              n_estimators=100, n_jobs=0, num_parallel_tree=1, random_state=0,\n              reg_alpha=0, reg_lambda=0.5, scale_pos_weight=1, subsample=1,\n              tree_method='exact', validate_parameters=1, verbosity=None)\n"
    }
   ],
   "source": [
    "\n",
    "# XGBoost\n",
    "\n",
    "params = {\n",
    "    'n_estimators': [100, 200, 500],\n",
    "    'learning_rate': [0.01,0.05,0.1],\n",
    "    'booster': ['gbtree', 'gblinear'],\n",
    "    'gamma': [0, 0.5, 1],\n",
    "    'reg_alpha': [0, 0.5, 1],\n",
    "    'reg_lambda': [0.5, 1, 5],\n",
    "    'base_score': [0.2, 0.5, 1]\n",
    "}\n",
    "\n",
    "gs2 = GridSearchCV(xg, params,  n_jobs=-1, cv=KFold(n_splits=3), scoring='roc_auc', verbose = 10)\n",
    "gs2.fit(X_train, y_train)\n",
    "\n",
    "\n",
    "print('Best score:', gs2.best_score_)\n",
    "print('Best score:', gs2.best_params_)\n",
    "print(gs2.best_estimator_)"
   ]
  },
  {
   "cell_type": "code",
   "execution_count": 79,
   "metadata": {
    "tags": []
   },
   "outputs": [
    {
     "output_type": "stream",
     "name": "stdout",
     "text": "Fitting 3 folds for each of 480 candidates, totalling 1440 fits\n[Parallel(n_jobs=-1)]: Using backend LokyBackend with 4 concurrent workers.\n[Parallel(n_jobs=-1)]: Done   5 tasks      | elapsed:    5.5s\n[Parallel(n_jobs=-1)]: Done  10 tasks      | elapsed:    6.3s\n[Parallel(n_jobs=-1)]: Done  17 tasks      | elapsed:    7.6s\n[Parallel(n_jobs=-1)]: Done  24 tasks      | elapsed:    9.1s\n[Parallel(n_jobs=-1)]: Done  33 tasks      | elapsed:   10.7s\n[Parallel(n_jobs=-1)]: Done  42 tasks      | elapsed:   12.1s\n[Parallel(n_jobs=-1)]: Done  53 tasks      | elapsed:   14.4s\n[Parallel(n_jobs=-1)]: Done  64 tasks      | elapsed:   20.1s\n[Parallel(n_jobs=-1)]: Done  77 tasks      | elapsed:   24.4s\n[Parallel(n_jobs=-1)]: Done  90 tasks      | elapsed:   28.7s\n[Parallel(n_jobs=-1)]: Done 105 tasks      | elapsed:   33.8s\n[Parallel(n_jobs=-1)]: Done 120 tasks      | elapsed:   37.3s\n[Parallel(n_jobs=-1)]: Done 137 tasks      | elapsed:   42.3s\n[Parallel(n_jobs=-1)]: Done 154 tasks      | elapsed:   45.5s\n[Parallel(n_jobs=-1)]: Done 173 tasks      | elapsed:   50.4s\n[Parallel(n_jobs=-1)]: Done 192 tasks      | elapsed:   54.0s\n[Parallel(n_jobs=-1)]: Done 213 tasks      | elapsed:   59.7s\n[Parallel(n_jobs=-1)]: Done 234 tasks      | elapsed:  1.1min\n[Parallel(n_jobs=-1)]: Done 257 tasks      | elapsed:  1.2min\n[Parallel(n_jobs=-1)]: Done 280 tasks      | elapsed:  1.2min\n[Parallel(n_jobs=-1)]: Done 305 tasks      | elapsed:  1.3min\n[Parallel(n_jobs=-1)]: Done 330 tasks      | elapsed:  1.4min\n[Parallel(n_jobs=-1)]: Done 357 tasks      | elapsed:  1.5min\n[Parallel(n_jobs=-1)]: Done 384 tasks      | elapsed:  1.6min\n[Parallel(n_jobs=-1)]: Done 413 tasks      | elapsed:  1.7min\n[Parallel(n_jobs=-1)]: Done 442 tasks      | elapsed:  1.8min\n[Parallel(n_jobs=-1)]: Done 473 tasks      | elapsed:  2.0min\n[Parallel(n_jobs=-1)]: Done 504 tasks      | elapsed:  2.1min\n[Parallel(n_jobs=-1)]: Done 537 tasks      | elapsed:  2.2min\n[Parallel(n_jobs=-1)]: Done 570 tasks      | elapsed:  2.3min\n[Parallel(n_jobs=-1)]: Done 605 tasks      | elapsed:  2.5min\n[Parallel(n_jobs=-1)]: Done 640 tasks      | elapsed:  2.6min\n[Parallel(n_jobs=-1)]: Done 677 tasks      | elapsed:  2.8min\n[Parallel(n_jobs=-1)]: Done 714 tasks      | elapsed:  2.9min\n[Parallel(n_jobs=-1)]: Done 753 tasks      | elapsed:  3.1min\n[Parallel(n_jobs=-1)]: Done 792 tasks      | elapsed:  3.2min\n[Parallel(n_jobs=-1)]: Done 833 tasks      | elapsed:  3.4min\n[Parallel(n_jobs=-1)]: Done 874 tasks      | elapsed:  3.5min\n[Parallel(n_jobs=-1)]: Done 917 tasks      | elapsed:  3.7min\n[Parallel(n_jobs=-1)]: Done 960 tasks      | elapsed:  3.9min\n[Parallel(n_jobs=-1)]: Done 1005 tasks      | elapsed:  4.1min\n[Parallel(n_jobs=-1)]: Done 1050 tasks      | elapsed:  4.2min\n[Parallel(n_jobs=-1)]: Done 1097 tasks      | elapsed:  4.4min\n[Parallel(n_jobs=-1)]: Done 1144 tasks      | elapsed:  4.6min\n[Parallel(n_jobs=-1)]: Done 1193 tasks      | elapsed:  4.8min\n[Parallel(n_jobs=-1)]: Done 1242 tasks      | elapsed:  5.0min\n[Parallel(n_jobs=-1)]: Done 1293 tasks      | elapsed:  5.2min\n[Parallel(n_jobs=-1)]: Done 1344 tasks      | elapsed:  5.4min\n[Parallel(n_jobs=-1)]: Done 1397 tasks      | elapsed:  5.6min\n[Parallel(n_jobs=-1)]: Done 1440 out of 1440 | elapsed:  5.8min finished\nBest score: 0.7597913428710958\nBest score: {'criterion': 'entropy', 'max_leaf_nodes': 20, 'min_samples_leaf': 1, 'min_samples_split': 4, 'n_estimators': 200}\nExtraTreesClassifier(criterion='entropy', max_leaf_nodes=20,\n                     min_samples_split=4, n_estimators=200)\n"
    }
   ],
   "source": [
    "# Extra Tree\n",
    "\n",
    "params = {\n",
    "    'n_estimators': [100, 200, 500],\n",
    "    'criterion': ['gini', 'entropy'],\n",
    "    'min_samples_split': [1,2,4,5],\n",
    "    'min_samples_leaf': [1,2,4,5],\n",
    "    'max_leaf_nodes': [4,10,20,50,None]\n",
    "}\n",
    "\n",
    "gs3 =  GridSearchCV(extra_t, params, n_jobs=-1, cv=KFold(n_splits=3), scoring='roc_auc',  verbose = 10)\n",
    "gs3.fit(X_train, y_train)\n",
    "\n",
    "\n",
    "print('Best score:', gs3.best_score_)\n",
    "print('Best score:', gs3.best_params_)\n",
    "print(gs3.best_estimator_)"
   ]
  },
  {
   "cell_type": "code",
   "execution_count": 87,
   "metadata": {},
   "outputs": [
    {
     "output_type": "execute_result",
     "data": {
      "text/plain": "{'fit_time': array([1.32944417, 1.33044267, 1.03124118]),\n 'score_time': array([0.14148712, 0.19049001, 0.17191982]),\n 'test_score': array([0.74657534, 0.71917808, 0.69655172])}"
     },
     "metadata": {},
     "execution_count": 87
    }
   ],
   "source": [
    "# Voting classifier\n",
    "votes = [\n",
    "    ('rf', gs.best_estimator_),\n",
    "    ('xg', gs2.best_estimator_),\n",
    "    ('extra_t', gs3.best_estimator_)\n",
    "]\n",
    "\n",
    "vote = VotingClassifier(estimators=votes, voting='hard', n_jobs=-1)\n",
    "vote_cv = cross_validate(vote, X_train, y_train, cv= KFold(3, random_state=123))\n",
    "vote.fit(X_train, y_train)\n",
    "vote_cv"
   ]
  },
  {
   "cell_type": "code",
   "execution_count": 88,
   "metadata": {
    "tags": []
   },
   "outputs": [
    {
     "output_type": "stream",
     "name": "stdout",
     "text": "Train performance\n-------------------------------------------------------\n              precision    recall  f1-score   support\n\n           1       0.74      1.00      0.85       314\n           2       1.00      0.09      0.16       123\n\n    accuracy                           0.74       437\n   macro avg       0.87      0.54      0.51       437\nweighted avg       0.81      0.74      0.66       437\n\nTest performance\n-------------------------------------------------------\n              precision    recall  f1-score   support\n\n           1       0.70      1.00      0.83       102\n           2       1.00      0.02      0.04        44\n\n    accuracy                           0.71       146\n   macro avg       0.85      0.51      0.44       146\nweighted avg       0.79      0.71      0.59       146\n\nRoc_auc score\n-------------------------------------------------------\n0.5113636363636364\n\nConfusion matrix\n-------------------------------------------------------\n[[102   0]\n [ 43   1]]\n"
    }
   ],
   "source": [
    "model = vote\n",
    "y_train_pred = vote.predict(X_train)\n",
    "y_test_pred = vote.predict(X_test)\n",
    "\n",
    "print('Train performance')\n",
    "print('-------------------------------------------------------')\n",
    "print(classification_report(y_train, y_train_pred))\n",
    "\n",
    "print('Test performance')\n",
    "print('-------------------------------------------------------')\n",
    "print(classification_report(y_test, y_test_pred))\n",
    "\n",
    "print('Roc_auc score')\n",
    "print('-------------------------------------------------------')\n",
    "print(roc_auc_score(y_test, y_test_pred))\n",
    "print('')\n",
    "\n",
    "print('Confusion matrix')\n",
    "print('-------------------------------------------------------')\n",
    "print(confusion_matrix(y_test, y_test_pred))"
   ]
  },
  {
   "cell_type": "code",
   "execution_count": null,
   "metadata": {},
   "outputs": [],
   "source": []
  }
 ]
}